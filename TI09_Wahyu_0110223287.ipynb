{
  "nbformat": 4,
  "nbformat_minor": 0,
  "metadata": {
    "colab": {
      "provenance": [],
      "mount_file_id": "18qhBNndHPHh890HivsmgLTh34Whd-zH4",
      "authorship_tag": "ABX9TyMArIxXrYcChVEtzrhLEi+a",
      "include_colab_link": true
    },
    "kernelspec": {
      "name": "python3",
      "display_name": "Python 3"
    },
    "language_info": {
      "name": "python"
    }
  },
  "cells": [
    {
      "cell_type": "markdown",
      "metadata": {
        "id": "view-in-github",
        "colab_type": "text"
      },
      "source": [
        "<a href=\"https://colab.research.google.com/github/wahyusyahputraaaa/DataMining/blob/main/TI09_Wahyu_0110223287.ipynb\" target=\"_parent\"><img src=\"https://colab.research.google.com/assets/colab-badge.svg\" alt=\"Open In Colab\"/></a>"
      ]
    },
    {
      "cell_type": "code",
      "execution_count": null,
      "metadata": {
        "colab": {
          "base_uri": "https://localhost:8080/"
        },
        "id": "im2t0SMR_v_V",
        "outputId": "8d034764-ab49-47e7-f595-b9cd17fd556b"
      },
      "outputs": [
        {
          "output_type": "stream",
          "name": "stdout",
          "text": [
            "Object Creation:\n",
            "Series:\n",
            "0    1.0\n",
            "1    3.0\n",
            "2    5.0\n",
            "3    NaN\n",
            "4    6.0\n",
            "5    8.0\n",
            "dtype: float64\n",
            "\n",
            "DataFrame:\n",
            "                   A         B         C         D\n",
            "2023-10-01 -0.989432  0.980926  0.742199 -0.576753\n",
            "2023-10-02  1.443890 -0.833839  1.315467  1.100622\n",
            "2023-10-03  0.540214  1.059016  0.303486  1.540659\n",
            "2023-10-04 -1.486833  0.071713  1.502272  0.833397\n",
            "2023-10-05 -0.683121 -0.721021 -1.201915  0.478128\n",
            "2023-10-06  1.174245  0.835961 -0.554385  0.338855\n",
            "==================================================\n"
          ]
        }
      ],
      "source": [
        "import pandas as pd\n",
        "import numpy as np\n",
        "\n",
        "# Object Creation\n",
        "s = pd.Series([1, 3, 5, np.nan, 6, 8])\n",
        "dates = pd.date_range('2023-10-01', periods=6)\n",
        "df = pd.DataFrame(np.random.randn(6, 4), index=dates, columns=list('ABCD'))\n",
        "\n",
        "print(\"Object Creation:\")\n",
        "print(\"Series:\")\n",
        "print(s)\n",
        "print(\"\\nDataFrame:\")\n",
        "print(df)\n",
        "print(\"=\"*50)"
      ]
    },
    {
      "cell_type": "code",
      "source": [
        "# Viewing Data\n",
        "print(\"Viewing Data:\")\n",
        "print(\"First 3 rows:\")\n",
        "print(df.head(3))\n",
        "print(\"\\nLast 2 rows:\")\n",
        "print(df.tail(2))\n",
        "print(\"\\nIndex and Columns:\")\n",
        "print(df.index)\n",
        "print(df.columns)\n",
        "print(\"=*40\")"
      ],
      "metadata": {
        "colab": {
          "base_uri": "https://localhost:8080/"
        },
        "id": "Ivcq4-ciDHFM",
        "outputId": "021cde0c-960b-4995-89f7-59c740d54c42"
      },
      "execution_count": null,
      "outputs": [
        {
          "output_type": "stream",
          "name": "stdout",
          "text": [
            "Viewing Data:\n",
            "First 3 rows:\n",
            "                   A         B         C         D\n",
            "2023-10-01 -0.989432  0.980926  0.742199 -0.576753\n",
            "2023-10-02  1.443890 -0.833839  1.315467  1.100622\n",
            "2023-10-03  0.540214  1.059016  0.303486  1.540659\n",
            "\n",
            "Last 2 rows:\n",
            "                   A         B         C         D\n",
            "2023-10-05 -0.683121 -0.721021 -1.201915  0.478128\n",
            "2023-10-06  1.174245  0.835961 -0.554385  0.338855\n",
            "\n",
            "Index and Columns:\n",
            "DatetimeIndex(['2023-10-01', '2023-10-02', '2023-10-03', '2023-10-04',\n",
            "               '2023-10-05', '2023-10-06'],\n",
            "              dtype='datetime64[ns]', freq='D')\n",
            "Index(['A', 'B', 'C', 'D'], dtype='object')\n",
            "=*40\n"
          ]
        }
      ]
    },
    {
      "cell_type": "code",
      "source": [
        "# Selection\n",
        "print(\"Selection:\")\n",
        "print(\"Selecting a column (A):\")\n",
        "print(df['A'])\n",
        "print(\"\\nSelecting by label (row 0):\")\n",
        "print(df.loc[dates[0]])\n",
        "print(\"\\nSelecting by position (row 1):\")\n",
        "print(df.iloc[1])\n",
        "print(\"\\nSelecting a subset of rows and columns:\")\n",
        "print(df.loc[dates[1:3], ['A', 'B']])\n",
        "print(\"=\"*40)"
      ],
      "metadata": {
        "colab": {
          "base_uri": "https://localhost:8080/"
        },
        "id": "6wn_G7cKEGBu",
        "outputId": "9cf10750-f6fc-4426-db01-88d080ea3352"
      },
      "execution_count": null,
      "outputs": [
        {
          "output_type": "stream",
          "name": "stdout",
          "text": [
            "Selection:\n",
            "Selecting a column (A):\n",
            "2023-10-01   -0.989432\n",
            "2023-10-02    1.443890\n",
            "2023-10-03    0.540214\n",
            "2023-10-04   -1.486833\n",
            "2023-10-05   -0.683121\n",
            "2023-10-06    1.174245\n",
            "Freq: D, Name: A, dtype: float64\n",
            "\n",
            "Selecting by label (row 0):\n",
            "A   -0.989432\n",
            "B    0.980926\n",
            "C    0.742199\n",
            "D   -0.576753\n",
            "Name: 2023-10-01 00:00:00, dtype: float64\n",
            "\n",
            "Selecting by position (row 1):\n",
            "A    1.443890\n",
            "B   -0.833839\n",
            "C    1.315467\n",
            "D    1.100622\n",
            "Name: 2023-10-02 00:00:00, dtype: float64\n",
            "\n",
            "Selecting a subset of rows and columns:\n",
            "                   A         B\n",
            "2023-10-02  1.443890 -0.833839\n",
            "2023-10-03  0.540214  1.059016\n",
            "========================================\n"
          ]
        }
      ]
    },
    {
      "cell_type": "code",
      "source": [
        "# Missing Data\n",
        "dfl = df.reindex(index=dates[0:4], columns=list(df.columns) + ['E'])\n",
        "dfl.loc[dates[0]:dates[1], 'E'] = 1\n",
        "\n",
        "print(\"Missing Data:\")\n",
        "print(\"DataFrame with missing values:\")\n",
        "print(dfl)\n",
        "print(\"\\nDropping rows missing values:\")\n",
        "print(dfl.dropna())\n",
        "print(\"\\nfilling missing values:\")\n",
        "print(dfl.fillna(value=0))\n",
        "print(\"=\"*60)"
      ],
      "metadata": {
        "colab": {
          "base_uri": "https://localhost:8080/"
        },
        "id": "9uq5AYKIGaDV",
        "outputId": "f231d754-f9b8-4e34-df49-191e316345e6"
      },
      "execution_count": null,
      "outputs": [
        {
          "output_type": "stream",
          "name": "stdout",
          "text": [
            "Missing Data:\n",
            "DataFrame with missing values:\n",
            "                   A         B         C         D    E\n",
            "2023-10-01 -0.989432  0.980926  0.742199 -0.576753  1.0\n",
            "2023-10-02  1.443890 -0.833839  1.315467  1.100622  1.0\n",
            "2023-10-03  0.540214  1.059016  0.303486  1.540659  NaN\n",
            "2023-10-04 -1.486833  0.071713  1.502272  0.833397  NaN\n",
            "\n",
            "Dropping rows missing values:\n",
            "                   A         B         C         D    E\n",
            "2023-10-01 -0.989432  0.980926  0.742199 -0.576753  1.0\n",
            "2023-10-02  1.443890 -0.833839  1.315467  1.100622  1.0\n",
            "\n",
            "filling missing values:\n",
            "                   A         B         C         D    E\n",
            "2023-10-01 -0.989432  0.980926  0.742199 -0.576753  1.0\n",
            "2023-10-02  1.443890 -0.833839  1.315467  1.100622  1.0\n",
            "2023-10-03  0.540214  1.059016  0.303486  1.540659  0.0\n",
            "2023-10-04 -1.486833  0.071713  1.502272  0.833397  0.0\n",
            "============================================================\n"
          ]
        }
      ]
    },
    {
      "cell_type": "code",
      "source": [
        "# Operations\n",
        "print(\"Operations:\")\n",
        "print(\"Mean of each column:\")\n",
        "print(df.mean())\n",
        "print(\"\\nSum of each row:\")\n",
        "print(df.sum(axis=1))\n",
        "print(\"=\"*40)"
      ],
      "metadata": {
        "colab": {
          "base_uri": "https://localhost:8080/"
        },
        "id": "ECfFDNxyHwFx",
        "outputId": "88bd90a8-476d-4544-a9e3-f59e8cad7208"
      },
      "execution_count": null,
      "outputs": [
        {
          "output_type": "stream",
          "name": "stdout",
          "text": [
            "Operations:\n",
            "Mean of each column:\n",
            "A   -0.000173\n",
            "B    0.232126\n",
            "C    0.351187\n",
            "D    0.619151\n",
            "dtype: float64\n",
            "\n",
            "Sum of each row:\n",
            "2023-10-01    0.156940\n",
            "2023-10-02    3.026140\n",
            "2023-10-03    3.443374\n",
            "2023-10-04    0.920550\n",
            "2023-10-05   -2.127929\n",
            "2023-10-06    1.794675\n",
            "Freq: D, dtype: float64\n",
            "========================================\n"
          ]
        }
      ]
    },
    {
      "cell_type": "code",
      "source": [
        "# Merge\n",
        "left = pd.DataFrame({'key': ['K0', 'K1', 'K2', 'K3'], 'A': ['A0', 'A1', 'A2', 'A3'], 'B': ['B0', 'B1', 'B2', 'B3']})\n",
        "right = pd.DataFrame({'key': ['K0', 'K1', 'K2', 'K3'], 'C': ['C0', 'C1', 'C2', 'C3'], 'D': ['D0', 'D1', 'D2', 'D3']})\n",
        "merged_df = pd.merge(left, right, on='key')\n",
        "\n",
        "print(\"Merge:\")\n",
        "print(\"Merged DataFrame:\")\n",
        "print(merged_df)\n",
        "print(\"=\"*40)"
      ],
      "metadata": {
        "colab": {
          "base_uri": "https://localhost:8080/"
        },
        "id": "he1y3bh3I1_N",
        "outputId": "2d1b2405-b101-4acf-835a-69f4eeb7c87f"
      },
      "execution_count": null,
      "outputs": [
        {
          "output_type": "stream",
          "name": "stdout",
          "text": [
            "Merge:\n",
            "Merged DataFrame:\n",
            "  key   A   B   C   D\n",
            "0  K0  A0  B0  C0  D0\n",
            "1  K1  A1  B1  C1  D1\n",
            "2  K2  A2  B2  C2  D2\n",
            "3  K3  A3  B3  C3  D3\n",
            "========================================\n"
          ]
        }
      ]
    },
    {
      "cell_type": "code",
      "source": [],
      "metadata": {
        "id": "iSLUuh1dMGdM"
      },
      "execution_count": null,
      "outputs": []
    },
    {
      "cell_type": "code",
      "source": [
        "# Grouping\n",
        "grouped = df. groupby('A').sum()\n",
        "print(\"Grouping:\")\n",
        "print (\"Grouped DataFrame:\")\n",
        "print(grouped)\n",
        "print(\"=*40\")"
      ],
      "metadata": {
        "colab": {
          "base_uri": "https://localhost:8080/"
        },
        "id": "UNWLMHpQMH5x",
        "outputId": "7c28199b-54ff-4f70-f74c-686d7c5491c8"
      },
      "execution_count": null,
      "outputs": [
        {
          "output_type": "stream",
          "name": "stdout",
          "text": [
            "Grouping:\n",
            "Grouped DataFrame:\n",
            "                  B         C         D\n",
            "A                                      \n",
            "-1.486833  0.071713  1.502272  0.833397\n",
            "-0.989432  0.980926  0.742199 -0.576753\n",
            "-0.683121 -0.721021 -1.201915  0.478128\n",
            " 0.540214  1.059016  0.303486  1.540659\n",
            " 1.174245  0.835961 -0.554385  0.338855\n",
            " 1.443890 -0.833839  1.315467  1.100622\n",
            "=*40\n"
          ]
        }
      ]
    },
    {
      "cell_type": "code",
      "source": [
        "# Reshaping\n",
        "stacked = df.stack()\n",
        "unstacked = stacked.unstack()\n",
        "\n",
        "print(\"Reshaping:\")\n",
        "print(\"Stacked DataFrame:\")\n",
        "print(stacked)\n",
        "print(\"\\nUnstacked DataFrame:\")\n",
        "print(unstacked)\n",
        "print(\"=\"*40)"
      ],
      "metadata": {
        "colab": {
          "base_uri": "https://localhost:8080/"
        },
        "id": "34mvVGWhMfU8",
        "outputId": "7e03802f-a3e1-4d41-a56e-b190963f1ed2"
      },
      "execution_count": null,
      "outputs": [
        {
          "output_type": "stream",
          "name": "stdout",
          "text": [
            "Reshaping:\n",
            "Stacked DataFrame:\n",
            "2023-10-01  A   -0.989432\n",
            "            B    0.980926\n",
            "            C    0.742199\n",
            "            D   -0.576753\n",
            "2023-10-02  A    1.443890\n",
            "            B   -0.833839\n",
            "            C    1.315467\n",
            "            D    1.100622\n",
            "2023-10-03  A    0.540214\n",
            "            B    1.059016\n",
            "            C    0.303486\n",
            "            D    1.540659\n",
            "2023-10-04  A   -1.486833\n",
            "            B    0.071713\n",
            "            C    1.502272\n",
            "            D    0.833397\n",
            "2023-10-05  A   -0.683121\n",
            "            B   -0.721021\n",
            "            C   -1.201915\n",
            "            D    0.478128\n",
            "2023-10-06  A    1.174245\n",
            "            B    0.835961\n",
            "            C   -0.554385\n",
            "            D    0.338855\n",
            "dtype: float64\n",
            "\n",
            "Unstacked DataFrame:\n",
            "                   A         B         C         D\n",
            "2023-10-01 -0.989432  0.980926  0.742199 -0.576753\n",
            "2023-10-02  1.443890 -0.833839  1.315467  1.100622\n",
            "2023-10-03  0.540214  1.059016  0.303486  1.540659\n",
            "2023-10-04 -1.486833  0.071713  1.502272  0.833397\n",
            "2023-10-05 -0.683121 -0.721021 -1.201915  0.478128\n",
            "2023-10-06  1.174245  0.835961 -0.554385  0.338855\n",
            "========================================\n"
          ]
        }
      ]
    },
    {
      "cell_type": "code",
      "source": [
        "# Time Series\n",
        "ts = pd.Series(np.random.randn(1000), index=pd.date_range('2023-01-01', periods=1000))\n",
        "cumulative_sum = ts.cumsum()\n",
        "\n",
        "print(\"Time Series:\")\n",
        "print(ts.head())\n",
        "print(\"\\nCumulative Sum:\")\n",
        "print(cumulative_sum.head())\n",
        "print(\"=\"*40)"
      ],
      "metadata": {
        "colab": {
          "base_uri": "https://localhost:8080/"
        },
        "id": "eiTv9CswNYES",
        "outputId": "1ccc0c4b-46c1-49a4-f679-8fd68b72f579"
      },
      "execution_count": null,
      "outputs": [
        {
          "output_type": "stream",
          "name": "stdout",
          "text": [
            "Time Series:\n",
            "2023-01-01    0.501202\n",
            "2023-01-02   -1.059134\n",
            "2023-01-03   -0.717422\n",
            "2023-01-04    1.162026\n",
            "2023-01-05   -0.881879\n",
            "Freq: D, dtype: float64\n",
            "\n",
            "Cumulative Sum:\n",
            "2023-01-01    0.501202\n",
            "2023-01-02   -0.557931\n",
            "2023-01-03   -1.275354\n",
            "2023-01-04   -0.113327\n",
            "2023-01-05   -0.995206\n",
            "Freq: D, dtype: float64\n",
            "========================================\n"
          ]
        }
      ]
    },
    {
      "cell_type": "code",
      "source": [
        "# Categoricals\n",
        "import pandas as pd\n",
        "\n",
        "# Create a categorical Series\n",
        "s = pd.Series([\"cat\", \"dog\", \"bird\", \"cat\", \"dog\",], dtype=\"category\")\n",
        "\n",
        "# Define new categories\n",
        "new_categories = [\"Category 1\", \"Category 2\", \"Category 3\"]\n",
        "\n",
        "# Create a new categorical Series with the new categories\n",
        "s_new = s.cat.set_categories(new_categories)\n",
        "\n",
        "print(\"Categoricals:\")\n",
        "print(\"Original Categorical Series:\")\n",
        "print(s)\n",
        "print(\"\\nNew Categorical Series with updated categories:\")\n",
        "print(s_new)"
      ],
      "metadata": {
        "colab": {
          "base_uri": "https://localhost:8080/"
        },
        "id": "Y_uJssgHOdPu",
        "outputId": "dfa63f01-8083-4695-a734-51e4a9ac76f7"
      },
      "execution_count": null,
      "outputs": [
        {
          "output_type": "stream",
          "name": "stdout",
          "text": [
            "Categoricals:\n",
            "Original Categorical Series:\n",
            "0     cat\n",
            "1     dog\n",
            "2    bird\n",
            "3     cat\n",
            "4     dog\n",
            "dtype: category\n",
            "Categories (3, object): ['bird', 'cat', 'dog']\n",
            "\n",
            "New Categorical Series with updated categories:\n",
            "0    NaN\n",
            "1    NaN\n",
            "2    NaN\n",
            "3    NaN\n",
            "4    NaN\n",
            "dtype: category\n",
            "Categories (3, object): ['Category 1', 'Category 2', 'Category 3']\n"
          ]
        }
      ]
    },
    {
      "cell_type": "code",
      "source": [
        "import matplotlib.pyplot as plt\n",
        "# Plotting\n",
        "df.plot()\n",
        "plt.show()\n",
        "\n",
        "print(\"Plotting:\")\n",
        "print(\"=\"*40)"
      ],
      "metadata": {
        "colab": {
          "base_uri": "https://localhost:8080/",
          "height": 497
        },
        "id": "guSfMNo9QjDp",
        "outputId": "a951aabe-9033-4e44-a2c1-b0e4ed963f21"
      },
      "execution_count": null,
      "outputs": [
        {
          "output_type": "display_data",
          "data": {
            "text/plain": [
              "<Figure size 640x480 with 1 Axes>"
            ],
            "image/png": "[encoded data removed]"
          },
          "metadata": {}
        },
        {
          "output_type": "stream",
          "name": "stdout",
          "text": [
            "Plotting:\n",
            "========================================\n"
          ]
        }
      ]
    },
    {
      "cell_type": "code",
      "source": [
        "# Importing and Exporting Data\n",
        "imported_df = pd.read_csv('/content/drive/MyDrive/Praktikum Data Mining/sample_data.csv')\n",
        "\n",
        "print(\"Importing and Exporting Data:\")\n",
        "print(\"Exported DataFrame to CSV:\")\n",
        "print(df)\n",
        "print(\"\\nImported DataFrame from CSV:\")\n",
        "print(imported_df)\n",
        "print(\"=\"*40)\n",
        "df.to_csv('/content/drive/MyDrive/Praktikum Data Mining/sample_data.csv')"
      ],
      "metadata": {
        "colab": {
          "base_uri": "https://localhost:8080/"
        },
        "id": "Cz3xFMLPQ2up",
        "outputId": "bfb575f8-137d-476d-ea6e-45a6ebcaab4b"
      },
      "execution_count": null,
      "outputs": [
        {
          "output_type": "stream",
          "name": "stdout",
          "text": [
            "Importing and Exporting Data:\n",
            "Exported DataFrame to CSV:\n",
            "                   A         B         C         D\n",
            "2023-10-01 -0.989432  0.980926  0.742199 -0.576753\n",
            "2023-10-02  1.443890 -0.833839  1.315467  1.100622\n",
            "2023-10-03  0.540214  1.059016  0.303486  1.540659\n",
            "2023-10-04 -1.486833  0.071713  1.502272  0.833397\n",
            "2023-10-05 -0.683121 -0.721021 -1.201915  0.478128\n",
            "2023-10-06  1.174245  0.835961 -0.554385  0.338855\n",
            "\n",
            "Imported DataFrame from CSV:\n",
            "    SUBJECT Stim1 Stim2  Response\n",
            "0         1     B     D         5\n",
            "1         1     A     B         1\n",
            "2         1     B     C         7\n",
            "3         2     A     C         3\n",
            "4         2     A     B         2\n",
            "5         2     B     C         6\n",
            "6         3     B     C         6\n",
            "7         3     C     D         5\n",
            "8         3     A     B         3\n",
            "9         4     B     D         2\n",
            "10        4     A     D         2\n",
            "11        4     B     C         5\n",
            "12        5     C     D         6\n",
            "13        5     A     D         1\n",
            "14        5     A     B         2\n",
            "15        6     A     B         2\n",
            "16        6     A     D         2\n",
            "17        6     B     D         3\n",
            "18        7     A     D         1\n",
            "19        7     B     D         5\n",
            "20        7     A     B         1\n",
            "21        8     C     D         5\n",
            "22        8     A     C         4\n",
            "23        8     A     B         3\n",
            "24        9     A     D         2\n",
            "25        9     A     B         1\n",
            "26        9     C     D         5\n",
            "27       10     A     C         5\n",
            "28       10     B     C         7\n",
            "29       10     A     B         2\n",
            "========================================\n"
          ]
        }
      ]
    }
  ]
}